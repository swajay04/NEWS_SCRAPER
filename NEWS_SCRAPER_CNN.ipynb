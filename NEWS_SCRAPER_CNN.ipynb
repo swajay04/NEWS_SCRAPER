{
  "nbformat": 4,
  "nbformat_minor": 0,
  "metadata": {
    "colab": {
      "provenance": []
    },
    "kernelspec": {
      "name": "python3",
      "display_name": "Python 3"
    },
    "language_info": {
      "name": "python"
    }
  },
  "cells": [
    {
      "cell_type": "code",
      "execution_count": 1,
      "metadata": {
        "id": "RbBOwTYasQc4"
      },
      "outputs": [],
      "source": [
        "import requests\n",
        "from bs4 import BeautifulSoup\n",
        "import pandas as pd\n",
        "from sklearn.model_selection import train_test_split\n",
        "from sklearn.feature_extraction.text import TfidfVectorizer\n",
        "from sklearn.ensemble import RandomForestClassifier\n",
        "from sklearn.naive_bayes import MultinomialNB\n",
        "from sklearn.svm import SVC\n",
        "from sklearn.linear_model import LogisticRegression\n",
        "from sklearn.metrics import accuracy_score, classification_report\n",
        "from sklearn.model_selection import GridSearchCV"
      ]
    },
    {
      "cell_type": "code",
      "source": [
        "url = \"https://edition.cnn.com/\"\n",
        "\n",
        "\n",
        "response = requests.get(url)\n",
        "\n",
        "if response.status_code == 200:\n",
        "    soup = BeautifulSoup(response.text, 'html.parser')\n",
        "\n",
        "    header_links = soup.find_all('a', class_='header__nav-item-link')\n",
        "\n",
        "    headers = []\n",
        "\n",
        "    for header in header_links:\n",
        "        headers.append(header.text.strip())\n",
        "\n",
        "    for header in headers:\n",
        "        print(header)\n",
        "else:\n",
        "    print(\"Failed to retrieve the web page\")\n"
      ],
      "metadata": {
        "colab": {
          "base_uri": "https://localhost:8080/"
        },
        "id": "cjsdMdqTsYVr",
        "outputId": "aaf5a2f0-7f9d-47f4-93e3-3a1baf85a0db"
      },
      "execution_count": 2,
      "outputs": [
        {
          "output_type": "stream",
          "name": "stdout",
          "text": [
            "US\n",
            "World\n",
            "Politics\n",
            "Business\n",
            "Opinion\n",
            "Health\n",
            "Entertainment\n",
            "Style\n",
            "Travel\n",
            "Sports\n",
            "Video\n",
            "More\n"
          ]
        }
      ]
    },
    {
      "cell_type": "code",
      "source": [
        "headers = headers[:-1]"
      ],
      "metadata": {
        "id": "pyCovthdsdwb"
      },
      "execution_count": 3,
      "outputs": []
    },
    {
      "cell_type": "code",
      "source": [
        "headers1 = headers[:-1]"
      ],
      "metadata": {
        "id": "1n34UsJ4shM2"
      },
      "execution_count": 4,
      "outputs": []
    },
    {
      "cell_type": "code",
      "source": [
        "headers2 = [header.lower() for header in headers1]\n",
        "print(headers2)"
      ],
      "metadata": {
        "colab": {
          "base_uri": "https://localhost:8080/"
        },
        "id": "RoXVkqERsjfI",
        "outputId": "0f0df283-62f4-4aef-a3fb-9373be4873c4"
      },
      "execution_count": 5,
      "outputs": [
        {
          "output_type": "stream",
          "name": "stdout",
          "text": [
            "['us', 'world', 'politics', 'business', 'opinion', 'health', 'entertainment', 'style', 'travel', 'sports']\n"
          ]
        }
      ]
    },
    {
      "cell_type": "code",
      "source": [
        "slash_url = \"https://edition.cnn.com/\"\n",
        "noslash_url = \"https://edition.cnn.com\" #remove last slash from slash_url for scraping headers and jumping to that page to scrape articles\n",
        "url = slash_url\n",
        "\n",
        "all_headlines = []\n",
        "\n",
        "for header in headers2:\n",
        "    full_url = slash_url + header\n",
        "    response = requests.get(full_url)\n",
        "\n",
        "    if response.status_code == 200:\n",
        "        soup = BeautifulSoup(response.text, 'html.parser')\n",
        "\n",
        "        container_elements = soup.find_all('a', class_=\"container__link container__link--type-article container_lead-plus-headlines__link\")  # Adjust class as needed\n",
        "\n",
        "        for container_element in container_elements:\n",
        "            headline_text = container_element.text.strip()\n",
        "\n",
        "            url = container_element.get('href')\n",
        "\n",
        "            if not url.startswith('http'):\n",
        "                url = noslash_url + url\n",
        "\n",
        "            content_response = requests.get(url)\n",
        "\n",
        "            if content_response.status_code == 200:\n",
        "                content_soup = BeautifulSoup(content_response.text, 'html.parser')\n",
        "\n",
        "                content_elements = content_soup.find_all('p')\n",
        "                content_text = ' '.join([p.text for p in content_elements])\n",
        "\n",
        "                content_text = content_text.replace('\\n', ' ')\n",
        "\n",
        "                all_headlines.append((header, headline_text, url, content_text))\n",
        "            else:\n",
        "                print(f\"Failed to retrieve content for {url}\")\n",
        "    else:\n",
        "        print(f\"Failed to retrieve the web page for {header}\")\n",
        "\n",
        "df = pd.DataFrame(all_headlines, columns=[\"Header\", \"Headline\", \"URL\", \"Content\"])\n",
        "\n",
        "print(df)"
      ],
      "metadata": {
        "colab": {
          "base_uri": "https://localhost:8080/"
        },
        "id": "lf6ZxVHOsmKc",
        "outputId": "b79890a8-db20-4a42-aa82-fcf58d085260"
      },
      "execution_count": 6,
      "outputs": [
        {
          "output_type": "stream",
          "name": "stdout",
          "text": [
            "Failed to retrieve content for https://edition.cnn.com/cnn-underscored/travel/what-is-allowed-in-carry-on-bags\n",
            "Failed to retrieve content for https://edition.cnn.com/cnn-underscored/travel/tsa-battery-rules\n",
            "Failed to retrieve content for https://edition.cnn.com/cnn-underscored/health-fitness/tennis-champion-coco-gauff-fitness-essentials\n",
            "    Header                                           Headline  \\\n",
            "0       us                Alaska Department of Transportation   \n",
            "1       us  A girl and 2 adults found dead after large Ala...   \n",
            "2       us  Man who lived frugally leaves unexpected gift ...   \n",
            "3       us  Shooter wounds 4 at Walmart near Dayton, Ohio,...   \n",
            "4       us  Suspect in Colorado mass shooting that left 3 ...   \n",
            "..     ...                                                ...   \n",
            "212  style  Long-lost $26 million masterpiece found in kit...   \n",
            "213  style                             Cindy Ord/Getty Images   \n",
            "214  style  The former host of ‘Reading Rainbow’ used to e...   \n",
            "215  style  A Texas museum acquired this masterpiece for $...   \n",
            "216  style      Trans activist Raquel Willis is in full bloom   \n",
            "\n",
            "                                                   URL  \\\n",
            "0    https://edition.cnn.com/2023/11/21/us/alaska-w...   \n",
            "1    https://edition.cnn.com/2023/11/21/us/alaska-w...   \n",
            "2    https://edition.cnn.com/2023/11/21/us/hinsdale...   \n",
            "3    https://edition.cnn.com/2023/11/20/us/walmart-...   \n",
            "4    https://edition.cnn.com/2023/11/20/us/custer-c...   \n",
            "..                                                 ...   \n",
            "212  https://edition.cnn.com/2023/11/16/style/cimab...   \n",
            "213  https://edition.cnn.com/2023/11/16/style/natio...   \n",
            "214  https://edition.cnn.com/2023/11/16/style/natio...   \n",
            "215  https://edition.cnn.com/style/chardin-louvre-k...   \n",
            "216  https://edition.cnn.com/2023/11/15/style/raque...   \n",
            "\n",
            "                                               Content  \n",
            "0           Three people have been found dead, incl...  \n",
            "1           Three people have been found dead, incl...  \n",
            "2           A man who lived frugally all his life l...  \n",
            "3           Four people were wounded after a shoote...  \n",
            "4           The man suspected of killing three peop...  \n",
            "..                                                 ...  \n",
            "212         The Louvre Museum in Paris has added a ...  \n",
            "213         As the National Book Awards came to a c...  \n",
            "214         As the National Book Awards came to a c...  \n",
            "215         When the Kimbell Art Museum secured Jea...  \n",
            "216   Editor’s Note: Keeping you in the know, Cultu...  \n",
            "\n",
            "[217 rows x 4 columns]\n"
          ]
        }
      ]
    },
    {
      "cell_type": "code",
      "source": [
        "df['Content'].iloc[1]"
      ],
      "metadata": {
        "colab": {
          "base_uri": "https://localhost:8080/",
          "height": 122
        },
        "id": "KdeGS4cLsrJW",
        "outputId": "f94661f1-16a0-4bbe-9103-3e068ffa3980"
      },
      "execution_count": 7,
      "outputs": [
        {
          "output_type": "execute_result",
          "data": {
            "text/plain": [
              "'       Three people have been found dead, including a young girl, and others are still missing after a large landslide covered a highway near a remote community in southeast Alaska on Monday,\\xa0according to the state’s\\xa0Department\\xa0of Public Safety.           The landslide was reported Monday around 9 p.m. local time on the Zimovia Highway near Wrangell, and walloped three homes in its path, department officials said. Alaska’s Department of Transportation said the path grew to an estimated 450 feet wide and had a significant debris field.           A girl was found dead during initial search and rescue efforts Monday night, and the remains of two adults were located by a drone operator Tuesday and recovered, according to the department.           A woman was rescued from the slide area Tuesday morning, but officials believe two juveniles and an adult are still unaccounted for.           State troopers are leading ongoing search and rescue efforts,\\xa0although the ground search was temporarily paused on Tuesday until the slide could be assessed for safety issues, the department said Tuesday morning. A geologist has since cleared some ground portions to resume search efforts, and more geologists are traveling to Wrangell to conduct further testing.           About 20 to 30 people have been displaced by the destructive landslide, Wrangell Borough Manager Mason Villarma\\xa0said Tuesday.           The area has been wet in recent days — typical for this time of year there — but it was particularly rainy on Sunday and Monday, with more than 3 inches of rain falling around Wrangell in the 24 hours leading up to the landslide, Andy Park, a National Weather Service meteorologist in Juneau, told CNN.           Park\\xa0said winds\\xa0of 61 to 87 mph Monday evening\\xa0may have been a factor in the landslides as well.           The region of southeast Alaska is already at risk for debris flows, according to Barrett Salisbury, a geologist with the Alaska Division of Geological & Geophysical Surveys. Heavy rainfall, rapid snowmelt or saturated soil only increase that risk, he said in a news conference.           Alaska Gov. Mike Dunleavy has issued a disaster declaration in Wrangel due to the landslide’s impacts, his office posted on social media.           Alaska’s Department of Public Safety has urged people not to enter the slide area as\\xa0it was active throughout Tuesday night and additional landslides are possible.    © 2023 Cable News Network. A Warner Bros. Discovery Company. All Rights Reserved.  CNN Sans ™ & © 2016 Cable News Network.'"
            ],
            "application/vnd.google.colaboratory.intrinsic+json": {
              "type": "string"
            }
          },
          "metadata": {},
          "execution_count": 7
        }
      ]
    },
    {
      "cell_type": "code",
      "source": [
        "df['URL'].iloc[1]"
      ],
      "metadata": {
        "colab": {
          "base_uri": "https://localhost:8080/",
          "height": 35
        },
        "id": "ul-GzmZjst5W",
        "outputId": "70ac5b60-f44e-498e-bacc-faa1e52eba21"
      },
      "execution_count": 8,
      "outputs": [
        {
          "output_type": "execute_result",
          "data": {
            "text/plain": [
              "'https://edition.cnn.com/2023/11/21/us/alaska-wrangell-landslide/index.html'"
            ],
            "application/vnd.google.colaboratory.intrinsic+json": {
              "type": "string"
            }
          },
          "metadata": {},
          "execution_count": 8
        }
      ]
    },
    {
      "cell_type": "code",
      "source": [
        "df.to_csv('/content/drive/MyDrive/scraped_data.csv', index=False)"
      ],
      "metadata": {
        "id": "P_UZszynswHx"
      },
      "execution_count": 16,
      "outputs": []
    },
    {
      "cell_type": "code",
      "source": [
        "df.shape"
      ],
      "metadata": {
        "colab": {
          "base_uri": "https://localhost:8080/"
        },
        "id": "HGbi9xAosyeQ",
        "outputId": "c26ead24-86d2-4fe7-ec8a-dd152787baa7"
      },
      "execution_count": 10,
      "outputs": [
        {
          "output_type": "execute_result",
          "data": {
            "text/plain": [
              "(217, 4)"
            ]
          },
          "metadata": {},
          "execution_count": 10
        }
      ]
    },
    {
      "cell_type": "code",
      "source": [
        "df['Header'].value_counts()"
      ],
      "metadata": {
        "colab": {
          "base_uri": "https://localhost:8080/"
        },
        "id": "xf7ED60ws00G",
        "outputId": "6addc763-58d7-4665-a057-486ed6815355"
      },
      "execution_count": 11,
      "outputs": [
        {
          "output_type": "execute_result",
          "data": {
            "text/plain": [
              "world       75\n",
              "business    35\n",
              "us          28\n",
              "politics    24\n",
              "health      24\n",
              "opinion     19\n",
              "style       12\n",
              "Name: Header, dtype: int64"
            ]
          },
          "metadata": {},
          "execution_count": 11
        }
      ]
    },
    {
      "cell_type": "code",
      "source": [
        "labels = df['Header']\n",
        "\n",
        "X = df[['Content', 'Headline']]\n",
        "y = labels\n",
        "\n",
        "X_train, X_test, y_train, y_test = train_test_split(X, y, test_size=0.2, random_state=42)\n",
        "\n",
        "vectorizer = TfidfVectorizer(max_features=10000)\n",
        "\n",
        "X_train_tfidf = vectorizer.fit_transform(X_train['Content'] + ' ' + X_train['Headline'])\n",
        "\n",
        "X_test_tfidf = vectorizer.transform(X_test['Content'] + ' ' + X_test['Headline'])\n",
        "\n",
        "param_grid_rf = {\n",
        "    'n_estimators': [50, 100, 200],\n",
        "    'max_depth': [None, 10, 20, 30],\n",
        "    'min_samples_split': [2, 5, 10],\n",
        "    'min_samples_leaf': [1, 2, 4]\n",
        "}\n",
        "\n",
        "param_grid_nb = {\n",
        "    'alpha': [0.1, 0.5, 1.0, 2.0]\n",
        "}\n",
        "\n",
        "param_grid_svc = {\n",
        "    'C': [0.1, 1, 10],\n",
        "    'kernel': ['linear', 'rbf', 'poly'],\n",
        "    'gamma': ['scale', 'auto']\n",
        "}\n",
        "\n",
        "param_grid_lr = {\n",
        "    'C': [0.1, 1, 10],\n",
        "    'max_iter': [50, 100, 200],\n",
        "    'solver': ['liblinear', 'lbfgs']\n",
        "}\n",
        "\n",
        "\n",
        "classifiers = {\n",
        "    'RandomForest': (RandomForestClassifier(), param_grid_rf),\n",
        "    'NaiveBayes': (MultinomialNB(), param_grid_nb),\n",
        "    'SVM': (SVC(), param_grid_svc),\n",
        "    'LogisticRegression': (LogisticRegression(), param_grid_lr)\n",
        "}\n",
        "\n",
        "for clf_name, (clf, param_grid) in classifiers.items():\n",
        "    grid_search = GridSearchCV(clf, param_grid, cv=5, scoring='accuracy', n_jobs=-1)\n",
        "    grid_search.fit(X_train_tfidf, y_train)\n",
        "\n",
        "    print(f\"Best Parameters for {clf_name}: \", grid_search.best_params_)\n",
        "    print(f\"Best Accuracy for {clf_name}: \", grid_search.best_score_)\n",
        "\n",
        "    best_classifier = grid_search.best_estimator_\n",
        "\n",
        "    X_test_tfidf = vectorizer.transform(X_test['Content'] + ' ' + X_test['Headline'])\n",
        "\n",
        "    y_pred = best_classifier.predict(X_test_tfidf)\n",
        "\n",
        "    accuracy = accuracy_score(y_test, y_pred)\n",
        "    classification_rep = classification_report(y_test, y_pred)\n",
        "\n",
        "    print(f'Accuracy for {clf_name}: {accuracy}')\n",
        "    print(classification_rep)\n",
        "    print(\"\\n\")"
      ],
      "metadata": {
        "colab": {
          "base_uri": "https://localhost:8080/"
        },
        "id": "cSLptvgEs215",
        "outputId": "1144b374-81d5-41cd-d551-3eda6c1d3dff"
      },
      "execution_count": 12,
      "outputs": [
        {
          "output_type": "stream",
          "name": "stdout",
          "text": [
            "Best Parameters for RandomForest:  {'max_depth': 30, 'min_samples_leaf': 1, 'min_samples_split': 5, 'n_estimators': 50}\n",
            "Best Accuracy for RandomForest:  0.6872268907563026\n",
            "Accuracy for RandomForest: 0.6136363636363636\n",
            "              precision    recall  f1-score   support\n",
            "\n",
            "    business       0.90      1.00      0.95         9\n",
            "      health       1.00      0.33      0.50         6\n",
            "     opinion       1.00      1.00      1.00         3\n",
            "    politics       0.67      0.29      0.40         7\n",
            "       style       0.50      0.33      0.40         3\n",
            "          us       0.00      0.00      0.00         5\n",
            "       world       0.43      0.91      0.59        11\n",
            "\n",
            "    accuracy                           0.61        44\n",
            "   macro avg       0.64      0.55      0.55        44\n",
            "weighted avg       0.64      0.61      0.57        44\n",
            "\n",
            "\n",
            "\n",
            "Best Parameters for NaiveBayes:  {'alpha': 0.1}\n",
            "Best Accuracy for NaiveBayes:  0.6065546218487395\n",
            "Accuracy for NaiveBayes: 0.6136363636363636\n",
            "              precision    recall  f1-score   support\n",
            "\n",
            "    business       0.90      1.00      0.95         9\n",
            "      health       1.00      0.33      0.50         6\n",
            "     opinion       1.00      0.33      0.50         3\n",
            "    politics       1.00      0.57      0.73         7\n",
            "       style       0.00      0.00      0.00         3\n",
            "          us       1.00      0.20      0.33         5\n",
            "       world       0.40      0.91      0.56        11\n",
            "\n",
            "    accuracy                           0.61        44\n",
            "   macro avg       0.76      0.48      0.51        44\n",
            "weighted avg       0.76      0.61      0.59        44\n",
            "\n",
            "\n",
            "\n",
            "Best Parameters for SVM:  {'C': 10, 'gamma': 'scale', 'kernel': 'linear'}\n",
            "Best Accuracy for SVM:  0.7280672268907564\n",
            "Accuracy for SVM: 0.7272727272727273\n",
            "              precision    recall  f1-score   support\n",
            "\n",
            "    business       0.90      1.00      0.95         9\n",
            "      health       1.00      0.33      0.50         6\n",
            "     opinion       1.00      1.00      1.00         3\n",
            "    politics       0.80      0.57      0.67         7\n",
            "       style       0.50      0.33      0.40         3\n",
            "          us       0.75      0.60      0.67         5\n",
            "       world       0.56      0.91      0.69        11\n",
            "\n",
            "    accuracy                           0.73        44\n",
            "   macro avg       0.79      0.68      0.70        44\n",
            "weighted avg       0.77      0.73      0.71        44\n",
            "\n",
            "\n",
            "\n",
            "Best Parameters for LogisticRegression:  {'C': 10, 'max_iter': 50, 'solver': 'liblinear'}\n",
            "Best Accuracy for LogisticRegression:  0.704873949579832\n",
            "Accuracy for LogisticRegression: 0.7045454545454546\n",
            "              precision    recall  f1-score   support\n",
            "\n",
            "    business       0.90      1.00      0.95         9\n",
            "      health       1.00      0.33      0.50         6\n",
            "     opinion       1.00      1.00      1.00         3\n",
            "    politics       0.75      0.43      0.55         7\n",
            "       style       0.50      0.33      0.40         3\n",
            "          us       0.75      0.60      0.67         5\n",
            "       world       0.53      0.91      0.67        11\n",
            "\n",
            "    accuracy                           0.70        44\n",
            "   macro avg       0.78      0.66      0.68        44\n",
            "weighted avg       0.76      0.70      0.69        44\n",
            "\n",
            "\n",
            "\n"
          ]
        }
      ]
    },
    {
      "cell_type": "code",
      "source": [
        "best_classifier = grid_search.best_estimator_\n",
        "\n",
        "y_pred_best = best_classifier.predict(X_test_tfidf)\n",
        "\n",
        "accuracy_best = accuracy_score(y_test, y_pred_best)\n",
        "classification_rep_best = classification_report(y_test, y_pred_best)\n",
        "\n",
        "results_df_best = pd.DataFrame({\n",
        "    'Actual': y_test,\n",
        "    'Predicted': y_pred_best\n",
        "})\n",
        "\n",
        "results_df_best.to_excel('/content/drive/MyDrive/best_result.xlsx', index=False)\n",
        "\n",
        "print(f'Accuracy for Best Model: {accuracy_best}')\n",
        "print(classification_rep_best)"
      ],
      "metadata": {
        "colab": {
          "base_uri": "https://localhost:8080/"
        },
        "id": "7XWMqGH3s6k7",
        "outputId": "3d1c0034-50d6-4c46-e1d1-cf6ee43b4ef4"
      },
      "execution_count": 13,
      "outputs": [
        {
          "output_type": "stream",
          "name": "stdout",
          "text": [
            "Accuracy for Best Model: 0.7045454545454546\n",
            "              precision    recall  f1-score   support\n",
            "\n",
            "    business       0.90      1.00      0.95         9\n",
            "      health       1.00      0.33      0.50         6\n",
            "     opinion       1.00      1.00      1.00         3\n",
            "    politics       0.75      0.43      0.55         7\n",
            "       style       0.50      0.33      0.40         3\n",
            "          us       0.75      0.60      0.67         5\n",
            "       world       0.53      0.91      0.67        11\n",
            "\n",
            "    accuracy                           0.70        44\n",
            "   macro avg       0.78      0.66      0.68        44\n",
            "weighted avg       0.76      0.70      0.69        44\n",
            "\n"
          ]
        }
      ]
    },
    {
      "cell_type": "code",
      "source": [
        "results_df_best"
      ],
      "metadata": {
        "colab": {
          "base_uri": "https://localhost:8080/"
        },
        "id": "joM5tDWts_T_",
        "outputId": "4b7594a5-bf86-4eb6-ed45-d3751f383aca"
      },
      "execution_count": 15,
      "outputs": [
        {
          "output_type": "stream",
          "name": "stdout",
          "text": [
            "<class 'pandas.core.frame.DataFrame'>\n",
            "Int64Index: 44 entries, 205 to 93\n",
            "Data columns (total 2 columns):\n",
            " #   Column     Non-Null Count  Dtype \n",
            "---  ------     --------------  ----- \n",
            " 0   Actual     44 non-null     object\n",
            " 1   Predicted  44 non-null     object\n",
            "dtypes: object(2)\n",
            "memory usage: 1.0+ KB\n"
          ]
        }
      ]
    },
    {
      "cell_type": "code",
      "source": [],
      "metadata": {
        "id": "BWcJDk3WtBy8"
      },
      "execution_count": null,
      "outputs": []
    }
  ]
}